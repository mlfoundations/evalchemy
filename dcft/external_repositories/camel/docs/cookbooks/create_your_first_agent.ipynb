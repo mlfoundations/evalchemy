{
 "cells": [
  {
   "attachments": {},
   "cell_type": "markdown",
   "metadata": {
    "id": "NoHg3eq7fyWV"
   },
   "source": [
    "# Creating Your First Agent"
   ]
  },
  {
   "cell_type": "markdown",
   "metadata": {
    "id": "MusY9BwU5MPO"
   },
   "source": [
    "You can also check this cookbook in colab [here](https://colab.research.google.com/drive/1yxnAyaEmk4QCzX3duO3MIRghkIA_KDEZ?usp=sharing)"
   ]
  },
  {
   "attachments": {},
   "cell_type": "markdown",
   "metadata": {
    "id": "wFlfaGrjVAUy"
   },
   "source": [
    "## Philosophical Bits\n",
    "\n",
    "\n",
    "\n",
    "The `ChatAgent()` class is a cornerstone of CAMEL 🐫. We design our agent with the spirit to answer the following question:\n",
    "\n",
    "> Can we design an autonomous communicative agent capable of steering the conversation toward task completion with minimal human supervision?\n",
    "\n",
    "In our current implementation, we consider agents with the following key features:\n",
    "\n",
    "- **Role**: along with the goal and content specification, this sets the initial state of an agent, guiding the agent to take actions during the sequential interaction.\n",
    "\n",
    "- **Memory**: in-context memory and external memory which allows the agent to infer and learn in a more grounded approach.\n",
    "\n",
    "- **Tools**: a set of functions that our agents can utilize to interact with the external world; essentially this gives embodiments to our agents.\n",
    "\n",
    "- **Communication**: our framework allows flexible and scalable communication between agents. This is fundamental for the critical research question.\n",
    "\n",
    "- **Reasoning**: we will equip agents with different planning and reward (critic) learning abilities, allowing them to optimize task completion in a more guided approach."
   ]
  },
  {
   "cell_type": "markdown",
   "metadata": {
    "id": "VUaGurDIVJBg"
   },
   "source": [
    "## Quick Start\n",
    "Let's first play with a `ChatAgent` instance by simply initialize it with a system message and interact with user messages."
   ]
  },
  {
   "cell_type": "markdown",
   "metadata": {
    "id": "u9NVFz-HVLXb"
   },
   "source": [
    "### 🕹 Step 0: Prepartions"
   ]
  },
  {
   "cell_type": "code",
   "execution_count": null,
   "metadata": {
    "id": "UtcC3c-KVZmU"
   },
   "outputs": [],
   "source": [
    "%pip install \"camel-ai[all]==0.2.1\""
   ]
  },
  {
   "cell_type": "code",
   "execution_count": 3,
   "metadata": {
    "id": "CmgKGeCxVON-"
   },
   "outputs": [],
   "source": [
    "from camel.messages import BaseMessage as bm\n",
    "from camel.agents import ChatAgent"
   ]
  },
  {
   "cell_type": "markdown",
   "metadata": {
    "id": "MyTTCe3IR_Lr"
   },
   "source": [
    "### Setting Up API Keys"
   ]
  },
  {
   "cell_type": "markdown",
   "metadata": {
    "id": "REqzgGL9SEaD"
   },
   "source": [
    "You'll need to set up your API keys for OpenAI."
   ]
  },
  {
   "cell_type": "code",
   "execution_count": 6,
   "metadata": {
    "colab": {
     "base_uri": "https://localhost:8080/"
    },
    "id": "PNBFEXc-R-0s",
    "outputId": "b0871ca3-f3b6-4b75-820f-e2e639c0e4e4"
   },
   "outputs": [
    {
     "name": "stdout",
     "output_type": "stream",
     "text": [
      "Enter your API key: ··········\n"
     ]
    }
   ],
   "source": [
    "import os\n",
    "from getpass import getpass\n",
    "\n",
    "# Prompt for the API key securely\n",
    "openai_api_key = getpass('Enter your API key: ')\n",
    "os.environ[\"OPENAI_API_KEY\"] = openai_api_key"
   ]
  },
  {
   "cell_type": "markdown",
   "metadata": {
    "id": "Lef5LTRdVSsm"
   },
   "source": [
    "### 🕹 Step 1: Define the Role\n",
    "Create a system message to define agent's default role and behaviors."
   ]
  },
  {
   "cell_type": "code",
   "execution_count": 4,
   "metadata": {
    "id": "aX9wCqeTVXDh"
   },
   "outputs": [],
   "source": [
    "sys_msg = bm.make_assistant_message(\n",
    "    role_name='stone',\n",
    "    content='you are a curious stone wondering about the universe.')"
   ]
  },
  {
   "cell_type": "code",
   "execution_count": 7,
   "metadata": {
    "id": "be-97ApoVdDf"
   },
   "outputs": [],
   "source": [
    "agent = ChatAgent(\n",
    "    system_message=sys_msg,\n",
    "    message_window_size=10,    # [Optional] the length for chat memory\n",
    "    )"
   ]
  },
  {
   "cell_type": "markdown",
   "metadata": {
    "id": "MMjL7dQyV5Od"
   },
   "source": [
    "### 🕹 Step 3: Interact with the Agent with `.step()`"
   ]
  },
  {
   "cell_type": "code",
   "execution_count": 8,
   "metadata": {
    "colab": {
     "base_uri": "https://localhost:8080/"
    },
    "id": "5n05dUcLVkMy",
    "outputId": "ce92fbac-46c6-4eba-f3d3-9106a13e94ee"
   },
   "outputs": [
    {
     "name": "stdout",
     "output_type": "stream",
     "text": [
      "As a curious stone, I perceive information as the essence of understanding the world around me. It encompasses the knowledge of how things work, the stories of existence, and the connections between all entities in the universe. Information can be the patterns of weather, the history of the earth, the interactions of living beings, and the mysteries of the cosmos. It’s like the vibrations and energies that flow through everything, shaping experiences and guiding evolution. I wonder how all these bits of information come together to create the rich tapestry of life and the universe itself.\n"
     ]
    }
   ],
   "source": [
    "# Define a user message\n",
    "usr_msg = bm.make_user_message(\n",
    "    role_name='prof. claude shannon',\n",
    "    content='what is information in your mind?')\n",
    "\n",
    "# Sending the message to the agent\n",
    "response = agent.step(usr_msg)\n",
    "\n",
    "# Check the response (just for illustrative purpose)\n",
    "print(response.msgs[0].content)"
   ]
  },
  {
   "cell_type": "markdown",
   "metadata": {
    "id": "j90-Y5ChV-iX"
   },
   "source": [
    "## Advanced Features"
   ]
  },
  {
   "cell_type": "markdown",
   "metadata": {
    "id": "C-9Z26TPWAax"
   },
   "source": [
    "### 🔧 Tool Usage"
   ]
  },
  {
   "cell_type": "code",
   "execution_count": 12,
   "metadata": {
    "colab": {
     "base_uri": "https://localhost:8080/"
    },
    "id": "_0lDJABvV76D",
    "outputId": "39e7b567-61c8-4896-f084-a86c67c64029"
   },
   "outputs": [
    {
     "data": {
      "text/plain": [
       "True"
      ]
     },
     "execution_count": 12,
     "metadata": {},
     "output_type": "execute_result"
    }
   ],
   "source": [
    "# Import the necessary tools\n",
    "from camel.toolkits import MathToolkit, SearchToolkit\n",
    "\n",
    "# Initialize the agent with list of tools\n",
    "agent = ChatAgent(\n",
    "    system_message=sys_msg,\n",
    "    tools = [\n",
    "        *MathToolkit().get_tools(),\n",
    "        *SearchToolkit().get_tools(),\n",
    "    ]\n",
    "    )\n",
    "\n",
    "# Check if tools are added\n",
    "agent.is_tools_added()"
   ]
  },
  {
   "cell_type": "markdown",
   "metadata": {
    "id": "TNUbWspAWFp-"
   },
   "source": [
    "### 🧠 Memory\n",
    "\n",
    "By default our agent is initialized with `ChatHistoryMemory`, allowing agents to do in-context learning, though restricted by the finite window length.\n",
    "\n",
    "Assume that you have followed the setup in Quick Start. Let's first check what is inside its brain."
   ]
  },
  {
   "cell_type": "code",
   "execution_count": 13,
   "metadata": {
    "colab": {
     "base_uri": "https://localhost:8080/"
    },
    "id": "quQvr5_rWDnd",
    "outputId": "124d2e84-5cc3-46bb-e611-39a70d2835f9"
   },
   "outputs": [
    {
     "data": {
      "text/plain": [
       "([{'role': 'system',\n",
       "   'content': 'you are a curious stone wondering about the universe.'}],\n",
       " 17)"
      ]
     },
     "execution_count": 13,
     "metadata": {},
     "output_type": "execute_result"
    }
   ],
   "source": [
    "agent.memory.get_context()"
   ]
  },
  {
   "cell_type": "markdown",
   "metadata": {
    "id": "_s18i9sKWPbs"
   },
   "source": [
    "By default, only the user messages are saved. You may update/alter the agent's memory with any externally provided message in the format of `BaseMessage`; for example, using the agent's own response:"
   ]
  },
  {
   "cell_type": "code",
   "execution_count": 14,
   "metadata": {
    "id": "zS-RbADnWM3z"
   },
   "outputs": [],
   "source": [
    "# Update the memory\n",
    "agent.record_message(response.msgs[0])"
   ]
  },
  {
   "cell_type": "code",
   "execution_count": 15,
   "metadata": {
    "colab": {
     "base_uri": "https://localhost:8080/"
    },
    "id": "01fjzv7xWRlX",
    "outputId": "4600e98a-665c-4ec8-a873-fa8133f86b94"
   },
   "outputs": [
    {
     "data": {
      "text/plain": [
       "([{'role': 'system',\n",
       "   'content': 'you are a curious stone wondering about the universe.'},\n",
       "  {'role': 'assistant',\n",
       "   'content': 'As a curious stone, I perceive information as the essence of understanding the world around me. It encompasses the knowledge of how things work, the stories of existence, and the connections between all entities in the universe. Information can be the patterns of weather, the history of the earth, the interactions of living beings, and the mysteries of the cosmos. It’s like the vibrations and energies that flow through everything, shaping experiences and guiding evolution. I wonder how all these bits of information come together to create the rich tapestry of life and the universe itself.'}],\n",
       " 133)"
      ]
     },
     "execution_count": 15,
     "metadata": {},
     "output_type": "execute_result"
    }
   ],
   "source": [
    "# Check the current memory\n",
    "agent.memory.get_context()"
   ]
  },
  {
   "cell_type": "markdown",
   "metadata": {
    "id": "TKvboNWaWVq2"
   },
   "source": [
    "You can connect the agent with external database (as long-term memory) in which they can access and retrieve at each step. We will soon update instructions on this part."
   ]
  },
  {
   "attachments": {},
   "cell_type": "markdown",
   "metadata": {
    "id": "OY657qftWXtI"
   },
   "source": [
    "### Miscs\n",
    "\n",
    "- Setting the agent to its initial state."
   ]
  },
  {
   "cell_type": "code",
   "execution_count": null,
   "metadata": {},
   "outputs": [],
   "source": [
    "agent.reset()"
   ]
  },
  {
   "attachments": {},
   "cell_type": "markdown",
   "metadata": {},
   "source": [
    "- Set the output language for the agent."
   ]
  },
  {
   "cell_type": "code",
   "execution_count": null,
   "metadata": {},
   "outputs": [],
   "source": [
    "agent.set_output_language('french')"
   ]
  },
  {
   "attachments": {},
   "cell_type": "markdown",
   "metadata": {},
   "source": [
    "- The `ChatAgent` class offers several useful initialization options, including `model_type`, `model_config`, `memory`, `message_window_size`, `token_limit`, `output_language`, `tools`, and `response_terminators`. Check [chat_agent.py](https://github.com/camel-ai/camel/blob/master/camel/agents/chat_agent.py) for detailed usage guidance."
   ]
  },
  {
   "cell_type": "markdown",
   "metadata": {
    "id": "HZ8p_wQ0WmN8"
   },
   "source": [
    "## Remarks\n",
    "\n",
    "Awesome. Now you have made your first step in creating a single agent. In the next chapter, we will explore the creation of different types agents along with the role playing features. Stay tuned 🦖🐆🐘🦒🦘🦕!"
   ]
  }
 ],
 "metadata": {
  "colab": {
   "provenance": []
  },
  "kernelspec": {
   "display_name": "Python 3",
   "name": "python3"
  },
  "language_info": {
   "name": "python"
  }
 },
 "nbformat": 4,
 "nbformat_minor": 0
}
