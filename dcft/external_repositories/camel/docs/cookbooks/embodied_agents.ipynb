{
  "nbformat": 4,
  "nbformat_minor": 0,
  "metadata": {
    "colab": {
      "provenance": []
    },
    "kernelspec": {
      "name": "python3",
      "display_name": "Python 3"
    },
    "language_info": {
      "name": "python"
    }
  },
  "cells": [
    {
      "cell_type": "markdown",
      "source": [
        "# Embodied Agents"
      ],
      "metadata": {
        "id": "APw8wDolb0L9"
      }
    },
    {
      "cell_type": "markdown",
      "source": [
        "You can also check this cookbook in colab [here](https://colab.research.google.com/drive/17qCB6ezYfva87dNWlGA3D3zQ20NI-Sfk?usp=sharing)"
      ],
      "metadata": {
        "id": "vLCfmNtRb-jR"
      }
    },
    {
      "cell_type": "markdown",
      "source": [
        "## Philosophical Bits\n",
        "\n",
        "We believe the essence of intelligence emerges from its dynamic interactions with the external environment, where the use of various tools becomes a pivotal factor in its development and manifestation.\n",
        "\n",
        "The `EmbodiedAgent()` in CAMEL is an advanced conversational agent that leverages **code interpreters** and **tool agents** (*e.g.*, `HuggingFaceToolAgent()`) to execute diverse tasks efficiently. This agent represents a blend of advanced programming and AI capabilities, and is able to interact and respond within a dynamic environment."
      ],
      "metadata": {
        "id": "jHQhWNnhcOch"
      }
    },
    {
      "cell_type": "markdown",
      "source": [
        "## Quick Start\n",
        "Let's first play with a `ChatAgent` instance by simply initialize it with a system message and interact with user messages."
      ],
      "metadata": {
        "id": "VUaGurDIVJBg"
      }
    },
    {
      "cell_type": "markdown",
      "source": [
        "### 🕹 Step 0: Prepartions"
      ],
      "metadata": {
        "id": "u9NVFz-HVLXb"
      }
    },
    {
      "cell_type": "code",
      "source": [
        "%pip install \"camel-ai==0.2.1\""
      ],
      "metadata": {
        "id": "UtcC3c-KVZmU"
      },
      "execution_count": null,
      "outputs": []
    },
    {
      "cell_type": "code",
      "source": [
        "from camel.agents import EmbodiedAgent\n",
        "from camel.generators import SystemMessageGenerator as sys_msg_gen\n",
        "from camel.messages import BaseMessage as bm\n",
        "from camel.types import RoleType"
      ],
      "metadata": {
        "id": "CmgKGeCxVON-"
      },
      "execution_count": 3,
      "outputs": []
    },
    {
      "cell_type": "markdown",
      "source": [
        "### Setting Up API Keys"
      ],
      "metadata": {
        "id": "MyTTCe3IR_Lr"
      }
    },
    {
      "cell_type": "markdown",
      "source": [
        "You'll need to set up your API keys for OpenAI."
      ],
      "metadata": {
        "id": "REqzgGL9SEaD"
      }
    },
    {
      "cell_type": "code",
      "source": [
        "import os\n",
        "from getpass import getpass\n",
        "\n",
        "# Prompt for the API key securely\n",
        "openai_api_key = getpass('Enter your API key: ')\n",
        "os.environ[\"OPENAI_API_KEY\"] = openai_api_key"
      ],
      "metadata": {
        "colab": {
          "base_uri": "https://localhost:8080/"
        },
        "id": "PNBFEXc-R-0s",
        "outputId": "e79eb379-4a5d-45b5-b591-2a1cd8612bbb"
      },
      "execution_count": 4,
      "outputs": [
        {
          "name": "stdout",
          "output_type": "stream",
          "text": [
            "Enter your API key: ··········\n"
          ]
        }
      ]
    },
    {
      "cell_type": "markdown",
      "source": [
        "### 🕹 Step 1: Define the Role\n",
        "We first need to set up the necessary information."
      ],
      "metadata": {
        "id": "wcetZrjEcyo_"
      }
    },
    {
      "cell_type": "code",
      "source": [
        "# Set the role name and the task\n",
        "role = 'Programmer'\n",
        "task = 'Writing and executing codes.'\n",
        "\n",
        "# Create the meta_dict and the role_tuple\n",
        "meta_dict = dict(role=role, task=task)\n",
        "role_tuple = (role, RoleType.EMBODIMENT)"
      ],
      "metadata": {
        "id": "i-pIc9eTc0SH"
      },
      "execution_count": 5,
      "outputs": []
    },
    {
      "cell_type": "markdown",
      "source": [
        "The `meta_dict` and `role_type` will be used to generate the system message.\n"
      ],
      "metadata": {
        "id": "Lf6oJvsQc3lj"
      }
    },
    {
      "cell_type": "code",
      "source": [
        "# Generate the system message based on this\n",
        "sys_msg = sys_msg_gen().from_dict(meta_dict=meta_dict,\n",
        "                                  role_tuple=role_tuple)"
      ],
      "metadata": {
        "id": "yA62jAfDc5CK"
      },
      "execution_count": 6,
      "outputs": []
    },
    {
      "cell_type": "markdown",
      "source": [
        "### 🕹 Step 2: Initialize the Agent 🐫\n",
        "Based on the system message, we are ready to initialize our embodied agent."
      ],
      "metadata": {
        "id": "BEUEpNa_c8sS"
      }
    },
    {
      "cell_type": "code",
      "source": [
        "embodied_agent = EmbodiedAgent(system_message=sys_msg,\n",
        "                               tool_agents=None,\n",
        "                               code_interpreter=None,\n",
        "                               verbose=True)"
      ],
      "metadata": {
        "id": "VetPjL70c9be"
      },
      "execution_count": 7,
      "outputs": []
    },
    {
      "cell_type": "markdown",
      "source": [
        "Be aware that the default argument values for `tool_agents` and `code_interpreter` are `None`, and the underlying code interpreter is using the `SubProcessInterpreter()`, which handles the execution of code in Python and Bash within a subprocess."
      ],
      "metadata": {
        "id": "o6aDvI1qc_kH"
      }
    },
    {
      "cell_type": "markdown",
      "source": [
        "### 🕹 Step 3: Interact with the Agent with `.step()`\n",
        "Use the base message wrapper to generate the user message."
      ],
      "metadata": {
        "id": "MXzNaWp9dCvo"
      }
    },
    {
      "cell_type": "code",
      "source": [
        "usr_msg = bm.make_user_message(\n",
        "    role_name='user',\n",
        "    content=('1. write a bash script to install numpy. '\n",
        "             '2. then write a python script to compute '\n",
        "             'the dot product of [8, 9] and [5, 4], '\n",
        "             'and print the result. '\n",
        "             '3. then write a script to search for '\n",
        "             'the weather at london with wttr.in/london.'))"
      ],
      "metadata": {
        "id": "Ts52u_UVdDJA"
      },
      "execution_count": 8,
      "outputs": []
    },
    {
      "cell_type": "markdown",
      "source": [
        "And feed that into your agents:"
      ],
      "metadata": {
        "id": "BlHF6LkRdFLo"
      }
    },
    {
      "cell_type": "code",
      "source": [
        "response = embodied_agent.step(usr_msg)"
      ],
      "metadata": {
        "colab": {
          "base_uri": "https://localhost:8080/"
        },
        "id": "6hKpSzssdGvc",
        "outputId": "38de4086-5271-4abb-e2e3-f5112aafe492"
      },
      "execution_count": 9,
      "outputs": [
        {
          "name": "stdout",
          "output_type": "stream",
          "text": [
            "\u001b[35m> Explanation:\n",
            "To accomplish the tasks you've outlined, I will perform the following actions:\n",
            "\n",
            "1. **Create a Bash script** to install NumPy using pip. This will ensure that the NumPy library is available for use in Python scripts.\n",
            "2. **Create a Python script** that computes the dot product of two vectors, `[8, 9]` and `[5, 4]`, and prints the result. The dot product is a common operation in linear algebra and can be computed using NumPy.\n",
            "3. **Create a Bash script** to fetch the weather information for London using the `curl` command to access the `wttr.in` service.\n",
            "\n",
            "### Step 1: Bash Script to Install NumPy\n",
            "\n",
            "The Bash script will use `pip` to install NumPy. Here’s the code for that:\n",
            "\n",
            "\u001b[35m> Code:\n",
            "#!/bin/bash\n",
            "# install_numpy.sh\n",
            "echo \"Installing NumPy...\"\n",
            "pip install numpy\n",
            "\n",
            "\u001b[35m> Explanation:\n",
            "### Step 2: Python Script for Dot Product\n",
            "\n",
            "The Python script will use NumPy to compute the dot product of the two vectors. Here’s the code for that:\n",
            "\n",
            "\u001b[35m> Code:\n",
            "# dot_product.py\n",
            "import numpy as np\n",
            "\n",
            "# Define the vectors\n",
            "vector_a = np.array([8, 9])\n",
            "vector_b = np.array([5, 4])\n",
            "\n",
            "# Compute the dot product\n",
            "dot_product = np.dot(vector_a, vector_b)\n",
            "\n",
            "# Print the result\n",
            "print(\"The dot product of\", vector_a.tolist(), \"and\", vector_b.tolist(), \"is:\", dot_product)\n",
            "\n",
            "\u001b[35m> Explanation:\n",
            "### Step 3: Bash Script to Fetch Weather Information\n",
            "\n",
            "The Bash script will use `curl` to get the weather information for London from `wttr.in`. Here’s the code for that:\n",
            "\n",
            "\u001b[35m> Code:\n",
            "#!/bin/bash\n",
            "# get_weather.sh\n",
            "echo \"Fetching weather information for London...\"\n",
            "curl wttr.in/London\n",
            "\n",
            "\u001b[35m> Explanation:\n",
            "### Summary of Actions\n",
            "\n",
            "1. Create a Bash script named `install_numpy.sh` to install NumPy.\n",
            "2. Create a Python script named `dot_product.py` to compute and print the dot product of the vectors.\n",
            "3. Create a Bash script named `get_weather.sh` to fetch and display the weather for London.\n",
            "\n",
            "Now, I will write the code for each of these scripts. \n",
            "\n",
            "### Code Implementation\n",
            "\n",
            "\u001b[35m> Code:\n",
            "# Create install_numpy.sh\n",
            "echo '#!/bin/bash' > install_numpy.sh\n",
            "echo 'echo \"Installing NumPy...\"' >> install_numpy.sh\n",
            "echo 'pip install numpy' >> install_numpy.sh\n",
            "chmod +x install_numpy.sh\n",
            "\n",
            "# Create dot_product.py\n",
            "echo 'import numpy as np' > dot_product.py\n",
            "echo 'vector_a = np.array([8, 9])' >> dot_product.py\n",
            "echo 'vector_b = np.array([5, 4])' >> dot_product.py\n",
            "echo 'dot_product = np.dot(vector_a, vector_b)' >> dot_product.py\n",
            "echo 'print(\"The dot product of\", vector_a.tolist(), \"and\", vector_b.tolist(), \"is:\", dot_product)' >> dot_product.py\n",
            "\n",
            "# Create get_weather.sh\n",
            "echo '#!/bin/bash' > get_weather.sh\n",
            "echo 'echo \"Fetching weather information for London...\"' >> get_weather.sh\n",
            "echo 'curl wttr.in/London' >> get_weather.sh\n",
            "chmod +x get_weather.sh\n",
            "\n",
            "\u001b[35m> Explanation:\n",
            "### Execution\n",
            "\n",
            "1. Run the `install_numpy.sh` script to install NumPy.\n",
            "2. Run the `dot_product.py` script to compute and print the dot product.\n",
            "3. Run the `get_weather.sh` script to fetch and display the weather for London.\n",
            "\n",
            "Let me know if you would like me to execute any of these scripts or if you need further assistance!\n",
            "\n",
            "The following bash code will run on your computer:\n",
            "\u001b[36m#!/bin/bash\n",
            "# install_numpy.sh\n",
            "echo \"Installing NumPy...\"\n",
            "pip install numpy\u001b[39m\n",
            "Running code? [Y/n]:y\n",
            "The following python code will run on your computer:\n",
            "\u001b[36m# dot_product.py\n",
            "import numpy as np\n",
            "\n",
            "# Define the vectors\n",
            "vector_a = np.array([8, 9])\n",
            "vector_b = np.array([5, 4])\n",
            "\n",
            "# Compute the dot product\n",
            "dot_product = np.dot(vector_a, vector_b)\n",
            "\n",
            "# Print the result\n",
            "print(\"The dot product of\", vector_a.tolist(), \"and\", vector_b.tolist(), \"is:\", dot_product)\u001b[39m\n",
            "Running code? [Y/n]:y\n",
            "The following bash code will run on your computer:\n",
            "\u001b[36m#!/bin/bash\n",
            "# get_weather.sh\n",
            "echo \"Fetching weather information for London...\"\n",
            "curl wttr.in/London\u001b[39m\n",
            "Running code? [Y/n]:y\n",
            "======stderr======\n",
            "\u001b[31m  % Total    % Received % Xferd  Average Speed   Time    Time     Time  Current\n",
            "                                 Dload  Upload   Total   Spent    Left  Speed\n",
            "\n",
            "  0     0    0     0    0     0      0      0 --:--:-- --:--:-- --:--:--     0\n",
            "  0     0    0     0    0     0      0      0 --:--:--  0:00:01 --:--:--     0\n",
            "  0     0    0     0    0     0      0      0 --:--:--  0:00:02 --:--:--     0\n",
            "100  8977  100  8977    0     0   3495      0  0:00:02  0:00:02 --:--:--  3495\n",
            "\u001b[39m\n",
            "==================\n",
            "The following bash code will run on your computer:\n",
            "\u001b[36m# Create install_numpy.sh\n",
            "echo '#!/bin/bash' > install_numpy.sh\n",
            "echo 'echo \"Installing NumPy...\"' >> install_numpy.sh\n",
            "echo 'pip install numpy' >> install_numpy.sh\n",
            "chmod +x install_numpy.sh\n",
            "\n",
            "# Create dot_product.py\n",
            "echo 'import numpy as np' > dot_product.py\n",
            "echo 'vector_a = np.array([8, 9])' >> dot_product.py\n",
            "echo 'vector_b = np.array([5, 4])' >> dot_product.py\n",
            "echo 'dot_product = np.dot(vector_a, vector_b)' >> dot_product.py\n",
            "echo 'print(\"The dot product of\", vector_a.tolist(), \"and\", vector_b.tolist(), \"is:\", dot_product)' >> dot_product.py\n",
            "\n",
            "# Create get_weather.sh\n",
            "echo '#!/bin/bash' > get_weather.sh\n",
            "echo 'echo \"Fetching weather information for London...\"' >> get_weather.sh\n",
            "echo 'curl wttr.in/London' >> get_weather.sh\n",
            "chmod +x get_weather.sh\u001b[39m\n",
            "Running code? [Y/n]:y\n"
          ]
        }
      ]
    },
    {
      "cell_type": "markdown",
      "source": [
        "Under the hood, the agent will perform multiple actions within its action space in the OS to fulfill the user request. It will compose code to implement the action – no worries, it will ask for your permission before execution.\n",
        "\n",
        "Ideally you should get the output similar to this, if you allow the agent to perform actions:"
      ],
      "metadata": {
        "id": "rP4Zma5ddJxh"
      }
    },
    {
      "cell_type": "code",
      "source": [
        "print(response.msg.content)"
      ],
      "metadata": {
        "colab": {
          "base_uri": "https://localhost:8080/"
        },
        "id": "qA0bpOFldKPV",
        "outputId": "421418d2-61ca-4c65-f08e-83038c50a85a"
      },
      "execution_count": 10,
      "outputs": [
        {
          "output_type": "stream",
          "name": "stdout",
          "text": [
            "1. write a bash script to install numpy. 2. then write a python script to compute the dot product of [8, 9] and [5, 4], and print the result. 3. then write a script to search for the weather at london with wttr.in/london.\n",
            "> Embodied Actions:\n",
            "\n",
            "> Executed Results:\n",
            "Executing code block 0: {\n",
            "Installing NumPy...\n",
            "Requirement already satisfied: numpy in /usr/local/lib/python3.10/dist-packages (1.26.4)\n",
            "}\n",
            "Executing code block 1: {\n",
            "The dot product of [8, 9] and [5, 4] is: 76\n",
            "}\n",
            "Executing code block 2: {\n",
            "Fetching weather information for London...\n",
            "Weather report: London\n",
            "\n",
            "  \u001b[38;5;250m     .-.     \u001b[0m Light rain shower\n",
            "  \u001b[38;5;250m    (   ).   \u001b[0m \u001b[38;5;118m15\u001b[0m °C\u001b[0m          \n",
            "  \u001b[38;5;250m   (___(__)  \u001b[0m \u001b[1m↗\u001b[0m \u001b[38;5;190m12\u001b[0m km/h\u001b[0m      \n",
            "  \u001b[38;5;111m    ‘ ‘ ‘ ‘  \u001b[0m 3 km\u001b[0m           \n",
            "  \u001b[38;5;111m   ‘ ‘ ‘ ‘   \u001b[0m 3.4 mm\u001b[0m         \n",
            "                                                       ┌─────────────┐                                                       \n",
            "┌──────────────────────────────┬───────────────────────┤  Thu 26 Sep ├───────────────────────┬──────────────────────────────┐\n",
            "│            Morning           │             Noon      └──────┬──────┘     Evening           │             Night            │\n",
            "├──────────────────────────────┼──────────────────────────────┼──────────────────────────────┼──────────────────────────────┤\n",
            "│ \u001b[38;5;226m _`/\"\"\u001b[38;5;250m.-.    \u001b[0m Patchy light d…│ \u001b[38;5;226m _`/\"\"\u001b[38;5;250m.-.    \u001b[0m Patchy light d…│ \u001b[38;5;226m _`/\"\"\u001b[38;5;250m.-.    \u001b[0m Light rain sho…│ \u001b[38;5;226m _`/\"\"\u001b[38;5;250m.-.    \u001b[0m Patchy rain ne…│\n",
            "│ \u001b[38;5;226m  ,\\_\u001b[38;5;250m(   ).  \u001b[0m \u001b[38;5;154m16\u001b[0m °C\u001b[0m          │ \u001b[38;5;226m  ,\\_\u001b[38;5;250m(   ).  \u001b[0m \u001b[38;5;154m17\u001b[0m °C\u001b[0m          │ \u001b[38;5;226m  ,\\_\u001b[38;5;250m(   ).  \u001b[0m \u001b[38;5;118m+14\u001b[0m(\u001b[38;5;082m12\u001b[0m) °C\u001b[0m     │ \u001b[38;5;226m  ,\\_\u001b[38;5;250m(   ).  \u001b[0m \u001b[38;5;082m+12\u001b[0m(\u001b[38;5;082m10\u001b[0m) °C\u001b[0m     │\n",
            "│ \u001b[38;5;226m   /\u001b[38;5;250m(___(__) \u001b[0m \u001b[1m↗\u001b[0m \u001b[38;5;220m19\u001b[0m-\u001b[38;5;208m24\u001b[0m km/h\u001b[0m   │ \u001b[38;5;226m   /\u001b[38;5;250m(___(__) \u001b[0m \u001b[1m↗\u001b[0m \u001b[38;5;214m20\u001b[0m-\u001b[38;5;214m23\u001b[0m km/h\u001b[0m   │ \u001b[38;5;226m   /\u001b[38;5;250m(___(__) \u001b[0m \u001b[1m↗\u001b[0m \u001b[38;5;214m23\u001b[0m-\u001b[38;5;196m35\u001b[0m km/h\u001b[0m   │ \u001b[38;5;226m   /\u001b[38;5;250m(___(__) \u001b[0m \u001b[1m↗\u001b[0m \u001b[38;5;214m20\u001b[0m-\u001b[38;5;202m29\u001b[0m km/h\u001b[0m   │\n",
            "│ \u001b[38;5;111m     ‘ ‘ ‘ ‘ \u001b[0m 5 km\u001b[0m           │ \u001b[38;5;111m     ‘ ‘ ‘ ‘ \u001b[0m 5 km\u001b[0m           │ \u001b[38;5;111m     ‘ ‘ ‘ ‘ \u001b[0m 10 km\u001b[0m          │ \u001b[38;5;111m     ‘ ‘ ‘ ‘ \u001b[0m 10 km\u001b[0m          │\n",
            "│ \u001b[38;5;111m    ‘ ‘ ‘ ‘  \u001b[0m 0.5 mm | 100%\u001b[0m  │ \u001b[38;5;111m    ‘ ‘ ‘ ‘  \u001b[0m 0.2 mm | 100%\u001b[0m  │ \u001b[38;5;111m    ‘ ‘ ‘ ‘  \u001b[0m 0.6 mm | 100%\u001b[0m  │ \u001b[38;5;111m    ‘ ‘ ‘ ‘  \u001b[0m 0.0 mm | 65%\u001b[0m   │\n",
            "└──────────────────────────────┴──────────────────────────────┴──────────────────────────────┴──────────────────────────────┘\n",
            "                                                       ┌─────────────┐                                                       \n",
            "┌──────────────────────────────┬───────────────────────┤  Fri 27 Sep ├───────────────────────┬──────────────────────────────┐\n",
            "│            Morning           │             Noon      └──────┬──────┘     Evening           │             Night            │\n",
            "├──────────────────────────────┼──────────────────────────────┼──────────────────────────────┼──────────────────────────────┤\n",
            "│ \u001b[38;5;250m     .-.     \u001b[0m Light rain     │ \u001b[38;5;226m _`/\"\"\u001b[38;5;250m.-.    \u001b[0m Patchy rain ne…│ \u001b[38;5;226m    \\   /    \u001b[0m Sunny          │ \u001b[38;5;226m    \\   /    \u001b[0m Clear          │\n",
            "│ \u001b[38;5;250m    (   ).   \u001b[0m \u001b[38;5;046m+9\u001b[0m(\u001b[38;5;047m7\u001b[0m) °C\u001b[0m       │ \u001b[38;5;226m  ,\\_\u001b[38;5;250m(   ).  \u001b[0m \u001b[38;5;082m+11\u001b[0m(\u001b[38;5;046m9\u001b[0m) °C\u001b[0m      │ \u001b[38;5;226m     .-.     \u001b[0m \u001b[38;5;082m+11\u001b[0m(\u001b[38;5;046m8\u001b[0m) °C\u001b[0m      │ \u001b[38;5;226m     .-.     \u001b[0m \u001b[38;5;046m+9\u001b[0m(\u001b[38;5;046m8\u001b[0m) °C\u001b[0m       │\n",
            "│ \u001b[38;5;250m   (___(__)  \u001b[0m \u001b[1m↘\u001b[0m \u001b[38;5;220m18\u001b[0m-\u001b[38;5;208m26\u001b[0m km/h\u001b[0m   │ \u001b[38;5;226m   /\u001b[38;5;250m(___(__) \u001b[0m \u001b[1m↘\u001b[0m \u001b[38;5;214m23\u001b[0m-\u001b[38;5;202m31\u001b[0m km/h\u001b[0m   │ \u001b[38;5;226m  ― (   ) ―  \u001b[0m \u001b[1m↘\u001b[0m \u001b[38;5;220m16\u001b[0m-\u001b[38;5;208m24\u001b[0m km/h\u001b[0m   │ \u001b[38;5;226m  ― (   ) ―  \u001b[0m \u001b[1m↘\u001b[0m \u001b[38;5;190m10\u001b[0m-\u001b[38;5;220m16\u001b[0m km/h\u001b[0m   │\n",
            "│ \u001b[38;5;111m    ‘ ‘ ‘ ‘  \u001b[0m 9 km\u001b[0m           │ \u001b[38;5;111m     ‘ ‘ ‘ ‘ \u001b[0m 10 km\u001b[0m          │ \u001b[38;5;226m     `-’     \u001b[0m 10 km\u001b[0m          │ \u001b[38;5;226m     `-’     \u001b[0m 10 km\u001b[0m          │\n",
            "│ \u001b[38;5;111m   ‘ ‘ ‘ ‘   \u001b[0m 0.8 mm | 100%\u001b[0m  │ \u001b[38;5;111m    ‘ ‘ ‘ ‘  \u001b[0m 0.1 mm | 100%\u001b[0m  │ \u001b[38;5;226m    /   \\    \u001b[0m 0.0 mm | 0%\u001b[0m    │ \u001b[38;5;226m    /   \\    \u001b[0m 0.0 mm | 0%\u001b[0m    │\n",
            "└──────────────────────────────┴──────────────────────────────┴──────────────────────────────┴──────────────────────────────┘\n",
            "                                                       ┌─────────────┐                                                       \n",
            "┌──────────────────────────────┬───────────────────────┤  Sat 28 Sep ├───────────────────────┬──────────────────────────────┐\n",
            "│            Morning           │             Noon      └──────┬──────┘     Evening           │             Night            │\n",
            "├──────────────────────────────┼──────────────────────────────┼──────────────────────────────┼──────────────────────────────┤\n",
            "│ \u001b[38;5;226m    \\   /    \u001b[0m Sunny          │ \u001b[38;5;226m _`/\"\"\u001b[38;5;250m.-.    \u001b[0m Patchy rain ne…│               Cloudy         │ \u001b[38;5;226m   \\  /\u001b[0m       Partly Cloudy  │\n",
            "│ \u001b[38;5;226m     .-.     \u001b[0m \u001b[38;5;082m+11\u001b[0m(\u001b[38;5;046m9\u001b[0m) °C\u001b[0m      │ \u001b[38;5;226m  ,\\_\u001b[38;5;250m(   ).  \u001b[0m \u001b[38;5;118m+14\u001b[0m(\u001b[38;5;118m13\u001b[0m) °C\u001b[0m     │ \u001b[38;5;250m     .--.    \u001b[0m \u001b[38;5;118m13\u001b[0m °C\u001b[0m          │ \u001b[38;5;226m _ /\"\"\u001b[38;5;250m.-.    \u001b[0m \u001b[38;5;082m12\u001b[0m °C\u001b[0m          │\n",
            "│ \u001b[38;5;226m  ― (   ) ―  \u001b[0m \u001b[1m→\u001b[0m \u001b[38;5;190m11\u001b[0m-\u001b[38;5;226m14\u001b[0m km/h\u001b[0m   │ \u001b[38;5;226m   /\u001b[38;5;250m(___(__) \u001b[0m \u001b[1m→\u001b[0m \u001b[38;5;190m12\u001b[0m-\u001b[38;5;226m14\u001b[0m km/h\u001b[0m   │ \u001b[38;5;250m  .-(    ).  \u001b[0m \u001b[1m→\u001b[0m \u001b[38;5;118m6\u001b[0m-\u001b[38;5;190m10\u001b[0m km/h\u001b[0m    │ \u001b[38;5;226m   \\_\u001b[38;5;250m(   ).  \u001b[0m \u001b[1m↗\u001b[0m \u001b[38;5;118m5\u001b[0m-\u001b[38;5;154m8\u001b[0m km/h\u001b[0m     │\n",
            "│ \u001b[38;5;226m     `-’     \u001b[0m 10 km\u001b[0m          │ \u001b[38;5;111m     ‘ ‘ ‘ ‘ \u001b[0m 10 km\u001b[0m          │ \u001b[38;5;250m (___.__)__) \u001b[0m 10 km\u001b[0m          │ \u001b[38;5;226m   /\u001b[38;5;250m(___(__) \u001b[0m 10 km\u001b[0m          │\n",
            "│ \u001b[38;5;226m    /   \\    \u001b[0m 0.0 mm | 0%\u001b[0m    │ \u001b[38;5;111m    ‘ ‘ ‘ ‘  \u001b[0m 0.1 mm | 100%\u001b[0m  │               0.0 mm | 0%\u001b[0m    │               0.0 mm | 0%\u001b[0m    │\n",
            "└──────────────────────────────┴──────────────────────────────┴──────────────────────────────┴──────────────────────────────┘\n",
            "Location: London, Greater London, England, UK [51.5073219,-0.1276474]\n",
            "\n",
            "Follow \u001b[46m\u001b[30m@igor_chubin\u001b[0m for wttr.in updates\n",
            "(stderr:   % Total    % Received % Xferd  Average Speed   Time    Time     Time  Current\n",
            "                                 Dload  Upload   Total   Spent    Left  Speed\n",
            "\n",
            "  0     0    0     0    0     0      0      0 --:--:-- --:--:-- --:--:--     0\n",
            "  0     0    0     0    0     0      0      0 --:--:--  0:00:01 --:--:--     0\n",
            "  0     0    0     0    0     0      0      0 --:--:--  0:00:02 --:--:--     0\n",
            "100  8977  100  8977    0     0   3495      0  0:00:02  0:00:02 --:--:--  3495\n",
            ")}\n",
            "Executing code block 3: {\n",
            "}\n",
            "\n"
          ]
        }
      ]
    }
  ]
}