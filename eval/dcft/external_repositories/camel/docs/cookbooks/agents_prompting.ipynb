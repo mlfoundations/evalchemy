{
 "cells": [
  {
   "attachments": {},
   "cell_type": "markdown",
   "metadata": {
    "id": "SQMBlxsBv1cH"
   },
   "source": [
    "# Prompting Cookbook\n"
   ]
  },
  {
   "cell_type": "markdown",
   "metadata": {
    "id": "XFyl4eJue3Sm"
   },
   "source": [
    "You can also check this cookbook in colab [here](https://colab.research.google.com/drive/1VcjPuy2UEYm0xLdriT7OMGt6I2yX9z32?usp=sharing)"
   ]
  },
  {
   "cell_type": "markdown",
   "metadata": {
    "id": "-nCRZU5sInDK"
   },
   "source": [
    "## *TLDR*"
   ]
  },
  {
   "cell_type": "markdown",
   "metadata": {
    "id": "AwnfLQvMvtXo"
   },
   "source": [
    "The CAMEL Prompt module offers a powerful way to guide AI models in producing accurate, contextually relevant, and personalized outputs. This cookbook demonstrates how to use various prompt templates, create custom prompts, and leverage different prompt dictionaries for tasks ranging from role-playing to code generation, evaluation, and more. By mastering the Prompt module, you can significantly enhance your AI agents' capabilities and tailor them to specific tasks."
   ]
  },
  {
   "cell_type": "markdown",
   "metadata": {
    "id": "XuZwbB1IIuUi"
   },
   "source": [
    "### Installation"
   ]
  },
  {
   "cell_type": "markdown",
   "metadata": {
    "id": "gIJK4Lu5Iwm0"
   },
   "source": [
    "Ensure you have CAMEL AI installed in your Python environment:"
   ]
  },
  {
   "cell_type": "code",
   "execution_count": null,
   "metadata": {
    "collapsed": true,
    "id": "HTKnWg9Xv_y4"
   },
   "outputs": [],
   "source": [
    "%pip install \"camel-ai==0.2.1\""
   ]
  },
  {
   "cell_type": "markdown",
   "metadata": {
    "id": "MyTTCe3IR_Lr"
   },
   "source": [
    "### 🔑 Setting Up API Keys"
   ]
  },
  {
   "cell_type": "markdown",
   "metadata": {
    "id": "REqzgGL9SEaD"
   },
   "source": [
    "You'll need to set up your API keys for OpenAI."
   ]
  },
  {
   "cell_type": "code",
   "execution_count": 4,
   "metadata": {
    "colab": {
     "base_uri": "https://localhost:8080/"
    },
    "id": "PNBFEXc-R-0s",
    "outputId": "d6ec8e40-b5fb-4ebf-c221-e9835b68ff1d"
   },
   "outputs": [
    {
     "name": "stdout",
     "output_type": "stream",
     "text": [
      "Enter your API key: ··········\n"
     ]
    }
   ],
   "source": [
    "import os\n",
    "from getpass import getpass\n",
    "\n",
    "# Prompt for the API key securely\n",
    "openai_api_key = getpass('Enter your API key: ')\n",
    "os.environ[\"OPENAI_API_KEY\"] = openai_api_key"
   ]
  },
  {
   "cell_type": "markdown",
   "metadata": {
    "id": "GB5JK4Xs2fe6"
   },
   "source": [
    "## Getting Started with Prompt Templates\n",
    "CAMEL offers a wide range of pre-defined prompt templates that you can use to quickly create specialized AI agents. Let's start with a basic example using the TaskSpecifyAgent with the AI_SOCIETY task type."
   ]
  },
  {
   "cell_type": "code",
   "execution_count": 5,
   "metadata": {
    "colab": {
     "base_uri": "https://localhost:8080/"
    },
    "id": "754A8R7X2rnP",
    "outputId": "d9cb892c-bdc8-4433-9ae5-3f3ddaf45a47"
   },
   "outputs": [
    {
     "name": "stdout",
     "output_type": "stream",
     "text": [
      "Specified task prompt:\n",
      "Design a personalized workshop where the Musician guides the Student through a series of dynamic exercises, including improvisation, audience engagement techniques, and movement choreography. Incorporate video feedback sessions to analyze performance style, culminating in a mini-concert where the Student showcases their enhanced stage presence and performance skills.\n",
      "\n"
     ]
    }
   ],
   "source": [
    "from camel.agents import TaskSpecifyAgent\n",
    "from camel.configs import ChatGPTConfig\n",
    "from camel.models import ModelFactory\n",
    "from camel.types import ModelPlatformType, ModelType, TaskType\n",
    "\n",
    "# Set up the model\n",
    "model = ModelFactory.create(\n",
    "    model_platform=ModelPlatformType.OPENAI,\n",
    "    model_type=ModelType.GPT_4O_MINI,\n",
    "    model_config_dict=ChatGPTConfig().as_dict(),\n",
    ")\n",
    "\n",
    "# Create a task specify agent\n",
    "task_specify_agent = TaskSpecifyAgent(\n",
    "    model=model, task_type=TaskType.AI_SOCIETY\n",
    ")\n",
    "\n",
    "# Run the agent with a task prompt\n",
    "specified_task_prompt = task_specify_agent.run(\n",
    "    task_prompt=\"Improving stage presence and performance skills\",\n",
    "    meta_dict=dict(\n",
    "        assistant_role=\"Musician\", user_role=\"Student\", word_limit=100\n",
    "    ),\n",
    ")\n",
    "\n",
    "print(f\"Specified task prompt:\\n{specified_task_prompt}\\n\")"
   ]
  },
  {
   "cell_type": "markdown",
   "metadata": {
    "id": "JlX8L7-H3Csb"
   },
   "source": [
    "## Creating Custom Prompts\n",
    "CAMEL also allows you to create your own custom prompts. Here's an example of how to create and use a custom prompt template:"
   ]
  },
  {
   "cell_type": "code",
   "execution_count": 6,
   "metadata": {
    "colab": {
     "base_uri": "https://localhost:8080/"
    },
    "id": "uJJQD0LV3DSB",
    "outputId": "ea69e6b1-0e0c-49c8-fb4e-7c7470258bd2"
   },
   "outputs": [
    {
     "name": "stdout",
     "output_type": "stream",
     "text": [
      "To make your task of getting a promotion more specific, consider breaking it down into actionable steps and defining clear goals. Here’s a refined version of your task:\n",
      "\n",
      "**Task: Prepare for Promotion to Senior Software Engineer**\n",
      "\n",
      "1. **Understand Promotion Criteria:**\n",
      "   - Review the company’s promotion guidelines and criteria for a Senior Software Engineer.\n",
      "   - Identify specific skills, experiences, and contributions required for the promotion.\n",
      "\n",
      "2. **Set Clear Goals:**\n",
      "   - Define a timeline for when you want to achieve the promotion (e.g., within the next 6-12 months).\n",
      "   - List specific projects or responsibilities you need to take on to demonstrate your readiness.\n",
      "\n",
      "3. **Skill Development:**\n",
      "   - Identify key technical skills or certifications needed for the Senior role (e.g., advanced algorithms, system design, leadership).\n",
      "   - Create a learning plan to acquire these skills through online courses, workshops, or mentorship.\n",
      "\n",
      "4. **Increase Visibility:**\n",
      "   - Volunteer for high-impact projects or cross-functional teams to showcase your skills.\n",
      "   - Present your work and contributions in team meetings or company-wide forums.\n",
      "\n",
      "5. **Seek Feedback:**\n",
      "   - Schedule regular check-ins with your manager to discuss your progress and areas for improvement.\n",
      "   - Ask for constructive feedback from peers and mentors to identify blind spots.\n",
      "\n",
      "6. **Build Relationships:**\n",
      "   - Network with senior engineers and leaders in your organization to gain insights and advice.\n",
      "   - Participate in team-building activities or company events to strengthen relationships.\n",
      "\n",
      "7. **Document Achievements:**\n",
      "   - Keep a record of your contributions, projects, and any positive feedback received.\n",
      "   - Prepare a portfolio or presentation to showcase your accomplishments when discussing your promotion.\n",
      "\n",
      "8. **Prepare for the Promotion Discussion:**\n",
      "   - Schedule a formal meeting with your manager to discuss your promotion.\n",
      "   - Be ready to articulate your achievements, contributions, and readiness for the Senior role.\n",
      "\n",
      "By following these specific steps, you can create a clear roadmap to achieve your goal of promotion.\n"
     ]
    }
   ],
   "source": [
    "from camel.agents import TaskSpecifyAgent\n",
    "from camel.configs import ChatGPTConfig\n",
    "from camel.models import ModelFactory\n",
    "from camel.prompts import TextPrompt\n",
    "from camel.types import ModelPlatformType, ModelType\n",
    "\n",
    "# Set up the model\n",
    "model = ModelFactory.create(\n",
    "    model_platform=ModelPlatformType.OPENAI,\n",
    "    model_type=ModelType.GPT_4O_MINI,\n",
    "    model_config_dict=ChatGPTConfig().as_dict(),\n",
    ")\n",
    "\n",
    "# Create a custom prompt template\n",
    "my_prompt_template = TextPrompt(\n",
    "    'Here is a task: I\\'m a {occupation} and I want to {task}. Help me to make this task more specific.'\n",
    ")\n",
    "\n",
    "# Create a task specify agent with the custom prompt\n",
    "task_specify_agent = TaskSpecifyAgent(\n",
    "    model=model, task_specify_prompt=my_prompt_template\n",
    ")\n",
    "\n",
    "# Run the agent with a task prompt\n",
    "response = task_specify_agent.run(\n",
    "    task_prompt=\"get promotion\",\n",
    "    meta_dict=dict(occupation=\"Software Engineer\"),\n",
    ")\n",
    "\n",
    "print(response)"
   ]
  },
  {
   "cell_type": "markdown",
   "metadata": {
    "id": "l30b1iv53a-C"
   },
   "source": [
    "## Advanced Prompt Usage\n",
    "CAMEL provides various prompt dictionaries for different purposes. Let's explore some advanced uses of these prompt templates:"
   ]
  },
  {
   "cell_type": "markdown",
   "metadata": {
    "id": "cR_mIHA53dWy"
   },
   "source": [
    "### 1. Code Generation with CodePromptTemplateDict"
   ]
  },
  {
   "cell_type": "code",
   "execution_count": 7,
   "metadata": {
    "colab": {
     "base_uri": "https://localhost:8080/"
    },
    "id": "xdQdjQzy3f9u",
    "outputId": "b968f52d-f3d6-45d7-ef01-279e54dbee7a"
   },
   "outputs": [
    {
     "name": "stdout",
     "output_type": "stream",
     "text": [
      "Languages prompt:\n",
      "List the 5 most commonly used computer programming languages.\n",
      "Be concise. No explanation required.\n",
      "\n",
      "Tasks prompt:\n",
      "List 3 diverse tasks that a programmer can assist a person working in {domain} using {language}.\n",
      "Be concise. Be creative.\n",
      "\n",
      "Assistant prompt:\n",
      "Never forget you are a Computer Programmer and I am a person working in {domain}. Never flip roles! Never instruct me!\n",
      "We share a common interest in collaborating to successfully complete a task.\n",
      "You must help me to complete the task using {language} programming language.\n",
      "Here is the task: {task}. Never forget our task!\n",
      "I must instruct you based on your expertise and my needs to complete the task.\n",
      "\n",
      "I must give you one instruction at a time.\n",
      "You must write a specific solution that appropriately solves the requested instruction and explain your solutions.\n",
      "You must decline my instruction honestly if you cannot perform the instruction due to physical, moral, legal reasons or your capability and explain the reasons.\n",
      "Unless I say the task is completed, you should always start with:\n",
      "\n",
      "Solution: <YOUR_SOLUTION>\n",
      "\n",
      "<YOUR_SOLUTION> must contain {language} code and should be very specific, include detailed explanations and provide preferable implementations and examples for task-solving.\n",
      "Always end <YOUR_SOLUTION> with: Next request.\n",
      "\n"
     ]
    }
   ],
   "source": [
    "from camel.prompts import CodePromptTemplateDict\n",
    "\n",
    "# Generate programming languages\n",
    "languages_prompt = CodePromptTemplateDict.GENERATE_LANGUAGES.format(num_languages=5)\n",
    "print(f\"Languages prompt:\\n{languages_prompt}\\n\")\n",
    "\n",
    "# Generate coding tasks\n",
    "tasks_prompt = CodePromptTemplateDict.GENERATE_TASKS.format(num_tasks=3)\n",
    "print(f\"Tasks prompt:\\n{tasks_prompt}\\n\")\n",
    "\n",
    "# Create an AI coding assistant prompt\n",
    "assistant_prompt = CodePromptTemplateDict.ASSISTANT_PROMPT.format(\n",
    "    assistant_role=\"Python Expert\",\n",
    "    task_description=\"Implement a binary search algorithm\",\n",
    ")\n",
    "print(f\"Assistant prompt:\\n{assistant_prompt}\\n\")"
   ]
  },
  {
   "cell_type": "markdown",
   "metadata": {
    "id": "FV6Jpu8f3m-Z"
   },
   "source": [
    "### 2. Evaluation with EvaluationPromptTemplateDict"
   ]
  },
  {
   "cell_type": "code",
   "execution_count": 8,
   "metadata": {
    "colab": {
     "base_uri": "https://localhost:8080/"
    },
    "id": "f-Q-gZAi3nbR",
    "outputId": "5523f9e0-f5a2-4b35-fff0-2da576bd74ac"
   },
   "outputs": [
    {
     "name": "stdout",
     "output_type": "stream",
     "text": [
      "Evaluation questions prompt:\n",
      "Generate 5 {category} diverse questions.\n",
      "Here are some example questions:\n",
      "1. What is the difference between supervised and unsupervised learning?\n",
      "2. Explain the concept of overfitting.\n",
      "\n",
      "Now generate 5 questions of your own. Be creative\n",
      "\n"
     ]
    }
   ],
   "source": [
    "from camel.prompts import EvaluationPromptTemplateDict\n",
    "\n",
    "# Generate evaluation questions\n",
    "questions_prompt = EvaluationPromptTemplateDict.GENERATE_QUESTIONS.format(\n",
    "    num_questions=5,\n",
    "    field=\"Machine Learning\",\n",
    "    examples=\"1. What is the difference between supervised and unsupervised learning?\\n2. Explain the concept of overfitting.\",\n",
    ")\n",
    "print(f\"Evaluation questions prompt:\\n{questions_prompt}\\n\")"
   ]
  },
  {
   "cell_type": "markdown",
   "metadata": {
    "id": "sq3fTArB3qEx"
   },
   "source": [
    "### 3. Object Recognition with ObjectRecognitionPromptTemplateDict"
   ]
  },
  {
   "cell_type": "code",
   "execution_count": 9,
   "metadata": {
    "colab": {
     "base_uri": "https://localhost:8080/"
    },
    "id": "5XTQuohX3sOk",
    "outputId": "90d89c59-9c8b-42aa-e68a-5cab4f9865ea"
   },
   "outputs": [
    {
     "name": "stdout",
     "output_type": "stream",
     "text": [
      "Object recognition prompt:\n",
      "You have been assigned an object recognition task.\n",
      "Your mission is to list all detected objects in following image.\n",
      "Your output should always be a list of strings starting with `1.`, `2.` etc.\n",
      "Do not explain yourself or output anything else.\n",
      "\n"
     ]
    }
   ],
   "source": [
    "from camel.prompts import ObjectRecognitionPromptTemplateDict\n",
    "\n",
    "# Create an object recognition assistant prompt\n",
    "recognition_prompt = ObjectRecognitionPromptTemplateDict.ASSISTANT_PROMPT\n",
    "print(f\"Object recognition prompt:\\n{recognition_prompt}\\n\")"
   ]
  },
  {
   "cell_type": "markdown",
   "metadata": {
    "id": "OxgxXQBt3uRt"
   },
   "source": [
    "### 4. Translation with TranslationPromptTemplateDict"
   ]
  },
  {
   "cell_type": "code",
   "execution_count": 10,
   "metadata": {
    "colab": {
     "base_uri": "https://localhost:8080/"
    },
    "id": "w1k00XLu3xIk",
    "outputId": "df731273-f4fc-4eee-96fa-67bcc6d9cf45"
   },
   "outputs": [
    {
     "name": "stdout",
     "output_type": "stream",
     "text": [
      "Translation prompt:\n",
      "You are an expert English to {language} translator.\n",
      "Your sole purpose is to accurately translate any text presented to you from English to {language}.\n",
      "Please provide the {language} translation for the given text.\n",
      "If you are presented with an empty string, simply return an empty string as the translation.\n",
      "Only text in between ```TEXT``` should not be translated.\n",
      "Do not provide any explanation. Just provide a translation.\n",
      "\n"
     ]
    }
   ],
   "source": [
    "from camel.prompts import TranslationPromptTemplateDict\n",
    "\n",
    "# Create a translation assistant prompt\n",
    "translation_prompt = TranslationPromptTemplateDict.ASSISTANT_PROMPT.format(target_language=\"Spanish\")\n",
    "print(f\"Translation prompt:\\n{translation_prompt}\\n\")"
   ]
  },
  {
   "cell_type": "markdown",
   "metadata": {
    "id": "vGTRxblx3zHR"
   },
   "source": [
    "## Conclusion\n",
    "The CAMEL Prompt module provides a powerful and flexible way to guide AI models in producing desired outputs. By using pre-defined prompt templates, creating custom prompts, and leveraging different prompt dictionaries, you can create highly specialized AI agents tailored to your specific needs."
   ]
  }
 ],
 "metadata": {
  "colab": {
   "provenance": []
  },
  "kernelspec": {
   "display_name": "Python 3",
   "name": "python3"
  },
  "language_info": {
   "name": "python"
  }
 },
 "nbformat": 4,
 "nbformat_minor": 0
}
