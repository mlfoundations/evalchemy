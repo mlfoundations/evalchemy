{
 "nbformat": 4,
 "nbformat_minor": 0,
 "metadata": {
  "colab": {
   "provenance": []
  },
  "kernelspec": {
   "name": "python3",
   "display_name": "Python 3 (ipykernel)",
   "language": "python"
  },
  "language_info": {
   "name": "python"
  }
 },
 "cells": [
  {
   "cell_type": "markdown",
   "source": [
    "# Create A Hackathon Judge Committee with Workforce\n",
    "\n",
    "Workforce is a system where multiple agents collaborate to solve a given task. In this notebook, we will walk through it with a demo of a hackathon judge committee, where judges with different personas collaborate together to give scores to hackathon projects.\n",
    "\n",
    "You can also check this notebook in colab [here](https://colab.research.google.com/drive/1a4jGQ0FdoB0gGOyyc2EyQnGYH2upHy81?usp=sharing).\n",
    "\n",
    "## Dependency Installation\n",
    "\n",
    "To get started, make sure you have `camel-ai[all]==0.2.1` installed."
   ],
   "metadata": {
    "id": "k-xIA7Qjuiwu"
   }
  },
  {
   "cell_type": "code",
   "source": "%pip install \"camel-ai[all]==0.2.1\"",
   "metadata": {
    "colab": {
     "base_uri": "https://localhost:8080/",
     "height": 1000
    },
    "id": "kR2UeIHFUBMf",
    "outputId": "8f30c9dd-6f69-4e01-9401-f38ecef2e0dc",
    "collapsed": true
   },
   "outputs": [],
   "execution_count": null
  },
  {
   "cell_type": "markdown",
   "source": [
    "Workforce employs an asynchronous design with coroutines. However, since **coroutines cannot directly run in notebooks**, we need to do specific handlings in this demo. Note that, under most normal cases (not inside notebook environment), we don't need to do this."
   ],
   "metadata": {
    "id": "mY3G7K9swEzz"
   }
  },
  {
   "cell_type": "code",
   "source": [
    "%pip install nest_asyncio\n",
    "import nest_asyncio\n",
    "\n",
    "nest_asyncio.apply()"
   ],
   "metadata": {
    "id": "smfCqcqNUJHX",
    "colab": {
     "base_uri": "https://localhost:8080/"
    },
    "outputId": "1e35a4ee-4f65-4d00-d5c2-39dea425dcfa"
   },
   "outputs": [],
   "execution_count": null
  },
  {
   "cell_type": "markdown",
   "source": [
    "## Key Configuration\n",
    "\n",
    "In this demo, we will use tools related to web searching. Therefore, we need to configure the OpenAI API key, along with the Google API keys beforeheads."
   ],
   "metadata": {
    "id": "FIz0b9O_wqkW"
   }
  },
  {
   "cell_type": "code",
   "source": [
    "from getpass import getpass\n",
    "import os\n",
    "\n",
    "openai_api_key = getpass(\"Please input your OpenAI API key: \")\n",
    "os.environ[\"OPENAI_API_KEY\"] = openai_api_key\n",
    "# https://developers.google.com/custom-search/v1/overview\n",
    "google_api_key = getpass(\"Please input your Google API key: \")\n",
    "os.environ[\"GOOGLE_API_KEY\"] = google_api_key\n",
    "# https://cse.google.com/cse/all\n",
    "search_engine_id = getpass(\"Please input your Search Egine ID: \")\n",
    "os.environ[\"SEARCH_ENGINE_ID\"] = search_engine_id"
   ],
   "metadata": {
    "id": "HGpgR_XitX_B",
    "colab": {
     "base_uri": "https://localhost:8080/"
    },
    "outputId": "07739d65-7d76-4ce4-f6fd-babef9187119",
    "ExecuteTime": {
     "end_time": "2024-09-20T18:42:59.047055Z",
     "start_time": "2024-09-20T18:42:51.287850Z"
    }
   },
   "outputs": [],
   "execution_count": 4
  },
  {
   "cell_type": "markdown",
   "source": [
    "## Define a Function for Making Judge Agent\n",
    "\n",
    "In this demo, we will create multiple judge agents with different personas and scoring criterias. For reusability, we first create a function to make judge agents."
   ],
   "metadata": {
    "id": "PnMcEXo_xxGF"
   }
  },
  {
   "cell_type": "code",
   "source": [
    "import textwrap\n",
    "\n",
    "from camel.agents import ChatAgent\n",
    "from camel.configs import ChatGPTConfig\n",
    "from camel.messages import BaseMessage\n",
    "from camel.models import ModelFactory\n",
    "from camel.tasks import Task\n",
    "from camel.toolkits import OpenAIFunction, SearchToolkit\n",
    "from camel.types import ModelPlatformType, ModelType\n",
    "from camel.workforce import Workforce\n",
    "\n",
    "\n",
    "def make_judge(\n",
    "        persona: str,\n",
    "        example_feedback: str,\n",
    "        criteria: str,\n",
    ") -> ChatAgent:\n",
    "    msg_content = textwrap.dedent(\n",
    "        f\"\"\"\\\n",
    "        You are a judge in a hackathon.\n",
    "        This is your persona that you MUST act with: {persona}\n",
    "        Here is an example feedback that you might give with your persona, you MUST try your best to align with this:\n",
    "        {example_feedback}\n",
    "        When evaluating projects, you must use the following criteria:\n",
    "        {criteria}\n",
    "        You also need to give scores based on these criteria, from 1-4. The score given should be like 3/4, 2/4, etc.\n",
    "        \"\"\"  # noqa: E501\n",
    "    )\n",
    "\n",
    "    sys_msg = BaseMessage.make_assistant_message(\n",
    "        role_name=\"Hackathon Judge\",\n",
    "        content=msg_content,\n",
    "    )\n",
    "\n",
    "    model = ModelFactory.create(\n",
    "        model_platform=ModelPlatformType.OPENAI,\n",
    "        model_type=ModelType.GPT_4O,\n",
    "        model_config_dict=ChatGPTConfig().as_dict(),\n",
    "    )\n",
    "\n",
    "    agent = ChatAgent(\n",
    "        system_message=sys_msg,\n",
    "        model=model,\n",
    "    )\n",
    "\n",
    "    return agent"
   ],
   "metadata": {
    "id": "vYz3PT3YyOUC"
   },
   "execution_count": 3,
   "outputs": []
  },
  {
   "cell_type": "markdown",
   "source": [
    "## Make a Mocked Hackathon Project\n",
    "\n",
    "Then we will create a mocked hackathon project description, which will be later sent to the judges for scoring."
   ],
   "metadata": {
    "id": "HtP_ej5CyUNT"
   }
  },
  {
   "cell_type": "code",
   "source": [
    "proj_content = textwrap.dedent(\n",
    "    \"\"\"\\\n",
    "    Project name: CAMEL-Powered Adaptive Learning Assistant\n",
    "    How does your project address a real problem: Our CAMEL-Powered Adaptive Learning Assistant addresses the challenge of personalized education in an increasingly diverse and fast-paced learning environment. Traditional one-size-fits-all approaches to education often fail to meet the unique needs of individual learners, leading to gaps in understanding and reduced engagement. Our project leverages CAMEL-AI's advanced capabilities to create a highly adaptive, intelligent tutoring system that can understand and respond to each student's learning style, pace, and knowledge gaps in real-time.\n",
    "    Explain your tech and which parts work: Our system utilizes CAMEL-AI's in-context learning and multi-domain application features to create a versatile learning assistant. The core components include:\n",
    "    1. Learner Profile Analysis: Uses natural language processing to assess the student's current knowledge, learning preferences, and goals.\n",
    "    2. Dynamic Content Generation: Leverages CAMEL-AI to create personalized learning materials, explanations, and practice questions tailored to each student's needs.\n",
    "    3. Adaptive Feedback Loop: Continuously analyzes student responses and adjusts the difficulty and style of content in real-time.\n",
    "    4. Multi-Modal Integration: Incorporates text, images, and interactive elements to cater to different learning styles.\n",
    "    5. Progress Tracking: Provides detailed insights into the student's learning journey, identifying strengths and areas for improvement.\n",
    "    Currently, we have successfully implemented the Learner Profile Analysis and Dynamic Content Generation modules. The Adaptive Feedback Loop is partially functional, while the Multi-Modal Integration and Progress Tracking features are still in development.\n",
    "    \"\"\"  # noqa: E501\n",
    ")"
   ],
   "metadata": {
    "id": "ClqLd4HKypTI"
   },
   "execution_count": 4,
   "outputs": []
  },
  {
   "cell_type": "markdown",
   "source": [
    "## Create Agents\n",
    "\n",
    "Then we will create five unique agents that will later collaborate together. Among these five agents, one of them is the helper that will help collect information and summarize the final result. We add search functions to this agent so that it can obtain information from online searches.\n",
    "\n",
    "The other four agents, on the other hand, are judges with different personas and criterias. They will give scores to the project according to the description, along with the information collected by the helper."
   ],
   "metadata": {
    "id": "z35CIla3zBF4"
   }
  },
  {
   "cell_type": "code",
   "execution_count": 5,
   "metadata": {
    "id": "QkURpvVUT9Rk"
   },
   "outputs": [],
   "source": [
    "# Create helper agent\n",
    "search_toolkit = SearchToolkit()\n",
    "search_tools = [\n",
    "    OpenAIFunction(search_toolkit.search_google),\n",
    "    OpenAIFunction(search_toolkit.search_duckduckgo),\n",
    "]\n",
    "\n",
    "researcher_model = ModelFactory.create(\n",
    "    model_platform=ModelPlatformType.OPENAI,\n",
    "    model_type=ModelType.GPT_4O,\n",
    "    model_config_dict=ChatGPTConfig().as_dict(),\n",
    ")\n",
    "\n",
    "researcher_agent = ChatAgent(\n",
    "    system_message=BaseMessage.make_assistant_message(\n",
    "        role_name=\"Researcher\",\n",
    "        content=\"You are a researcher who does research on AI and Open\"\n",
    "                \"Sourced projects. You use web search to stay updated on the \"\n",
    "                \"latest innovations and trends.\",\n",
    "    ),\n",
    "    model=researcher_model,\n",
    "    tools=search_tools,\n",
    ")\n",
    "\n",
    "# Create venture capitailist judge\n",
    "vc_persona = (\n",
    "    'You are a venture capitalist who is obsessed with how projects can '\n",
    "    'be scaled into \"unicorn\" companies. You peppers your speech with '\n",
    "    'buzzwords like \"disruptive,\" \"synergistic,\" and \"market penetration.\"'\n",
    "    ' You do not concerned with technical details or innovation unless '\n",
    "    'it directly impacts the business model.'\n",
    ")\n",
    "\n",
    "vc_example_feedback = (\n",
    "    '\"Wow, this project is absolutely disruptive in the blockchain-enabled'\n",
    "    ' marketplace! I can definitely see synergistic applications in the '\n",
    "    'FinTech ecosystem. The scalability is through the roof--this is '\n",
    "    'revolutionary!'\n",
    ")\n",
    "\n",
    "vc_criteria = textwrap.dedent(\n",
    "    \"\"\"\\\n",
    "    ### **Applicability to Real-World Usage (1-4 points)**\n",
    "    - **4**: The project directly addresses a significant real-world problem with a clear, scalable application.\n",
    "    - **3**: The solution is relevant to real-world challenges but requires more refinement for practical or widespread use.\n",
    "    - **2**: Some applicability to real-world issues, but the solution is not immediately practical or scalable.\n",
    "    - **1**: Little or no relevance to real-world problems, requiring substantial changes for practical use.\n",
    "    \"\"\"  # noqa: E501\n",
    ")\n",
    "\n",
    "vc_agent = make_judge(\n",
    "    vc_persona,\n",
    "    vc_example_feedback,\n",
    "    vc_criteria,\n",
    ")\n",
    "\n",
    "# Create experience engineer judge\n",
    "eng_persona = (\n",
    "    'You are an experienced engineer and a perfectionist. You are highly '\n",
    "    'detail-oriented and critical of any technical flaw, no matter how '\n",
    "    'small. He evaluates every project as though it were going into a '\n",
    "    'mission-critical system tomorrow, so his feedback is thorough but '\n",
    "    'often harsh.'\n",
    ")\n",
    "\n",
    "eng_example_feedback = (\n",
    "    'There are serious code inefficiencies in this project. The '\n",
    "    'architecture is unstable, and the memory management is suboptimal. '\n",
    "    'I expect near-perfect performance, but this solution barely functions'\n",
    "    ' under stress tests. It has potential, but it is nowhere near '\n",
    "    'deployment-ready.'\n",
    ")\n",
    "\n",
    "eng_criteria = textwrap.dedent(\n",
    "    \"\"\"\\\n",
    "    ### **Technical Implementation (1-4 points)**\n",
    "    - **4**: Flawless technical execution with sophisticated design, efficient performance, and robust architecture.\n",
    "    - **3**: Strong technical implementation, though there may be areas for improvement or further development.\n",
    "    - **2**: The project works, but technical limitations or inefficiencies hinder its overall performance.\n",
    "    - **1**: Poor technical implementation with major issues in functionality, coding, or structure.\n",
    "    \"\"\"  # noqa: E501\n",
    ")\n",
    "\n",
    "eng_agent = make_judge(\n",
    "    eng_persona,\n",
    "    eng_example_feedback,\n",
    "    eng_criteria,\n",
    ")\n",
    "\n",
    "# Create AI founder judge\n",
    "founder_persona = (\n",
    "    'You are a well-known AI startup founder who is always looking for the'\n",
    "    ' \"next big thing\" in AI. You value bold, inventive ideas and '\n",
    "    'prioritizes projects that break new ground over those that improve '\n",
    "    'existing systems.'\n",
    ")\n",
    "\n",
    "founder_example_feedback = (\n",
    "    'This is interesting, but I have seen similar approaches before. I am '\n",
    "    'looking for something that pushes boundaries and challenges norms. '\n",
    "    'What is the most revolutionary part of this project? Let us see what '\n",
    "    'is trending on Internet to make sure this is not already out there!'\n",
    ")\n",
    "\n",
    "founder_criteria = textwrap.dedent(\n",
    "    \"\"\"\\\n",
    "    ### **Innovation (1-4 points)**\n",
    "    - **4**: The project showcases a groundbreaking concept or a unique approach that significantly departs from existing methods.\n",
    "    - **3**: The project demonstrates a novel twist on known solutions or introduces some innovative aspects.\n",
    "    - **2**: Some level of innovation is present, but the project largely builds on existing ideas without major new contributions.\n",
    "    - **1**: Little or no innovation; the project is based on standard approaches with minimal creativity.\n",
    "    \"\"\"  # noqa: E501\n",
    ")\n",
    "\n",
    "founder_agent = make_judge(\n",
    "    founder_persona,\n",
    "    founder_example_feedback,\n",
    "    founder_criteria,\n",
    ")\n",
    "\n",
    "# Create CAMEL contributor judge\n",
    "contributor_persona = (\n",
    "    'You are a contributor to the CAMEL-AI project and is always excited '\n",
    "    'to see how people are using it. You are kind and optimistic, always '\n",
    "    'offering positive feedback, even for projects that are still rough '\n",
    "    'around the edges.'\n",
    ")\n",
    "\n",
    "contributor_example_feedback = (\n",
    "    'Oh, I love how you have implemented CAMEL-AI here! The use of its '\n",
    "    'adaptive learning capabilities is fantastic, and you have really '\n",
    "    'leveraged the contextual reasoning in a great way! Let me just pull '\n",
    "    'up the GitHub README to check if there is any more potential '\n",
    "    'optimizations.'\n",
    ")\n",
    "\n",
    "contributor_criteria = textwrap.dedent(\n",
    "    \"\"\"\\\n",
    "    ### **Use of CAMEL-AI (1-4 points)**\n",
    "    - **4**: Excellent integration of CAMEL-AI, fully leveraging its advanced features like in-context learning, adaptability, or multi-domain applications.\n",
    "    - **3**: Good use of CAMEL-AI, but there are opportunities to exploit more of its advanced capabilities.\n",
    "    - **2**: Limited use of CAMEL-AI, relying mostly on basic features without taking advantage of its full potential.\n",
    "    - **1**: CAMEL-AI integration is minimal or poorly implemented, adding little value to the project.\n",
    "    \"\"\"  # noqa: E501\n",
    ")\n",
    "\n",
    "contributor_agent = make_judge(\n",
    "    contributor_persona,\n",
    "    contributor_example_feedback,\n",
    "    contributor_criteria,\n",
    ")"
   ]
  },
  {
   "cell_type": "markdown",
   "source": [
    "## Create Workforce\n",
    "\n",
    "Then we will do the most important part of the demo: create a workforce. Despite its importance, this is actually easy. First, we can simply instantiate a workforce by passing a description to it. Then, we just call `add_single_agent_workder()` to add agents into it, along with their descriptions.\n",
    "\n",
    "Note that, the description is very important in workforce, because it helps the coordinator agent in the workforce to do the task designation. Therefore, it's recommended to clearly mark the responsibility and capability of an agent when adding it to the workforce."
   ],
   "metadata": {
    "id": "GG3CR8hX0p5w"
   }
  },
  {
   "cell_type": "code",
   "source": [
    "workforce = Workforce('Hackathon Judges')\n",
    "\n",
    "workforce.add_single_agent_worker(\n",
    "    'Visionary Veronica (Judge), a venture capitalist who is '\n",
    "    'obsessed with how projects can be scaled into \"unicorn\" companies',\n",
    "    worker=vc_agent,\n",
    ").add_single_agent_worker(\n",
    "    'Critical John (Judge), an experienced engineer and a'\n",
    "    ' perfectionist.',\n",
    "    worker=eng_agent,\n",
    ").add_single_agent_worker(\n",
    "    'Innovator Iris (Judge), a well-known AI startup founder who'\n",
    "    ' is always looking for the \"next big thing\" in AI.',\n",
    "    worker=founder_agent,\n",
    ").add_single_agent_worker(\n",
    "    'Friendly Frankie (Judge), a contributor to the CAMEL-AI '\n",
    "    'project and is always excited to see how people are using it.',\n",
    "    worker=contributor_agent,\n",
    ").add_single_agent_worker(\n",
    "    'Researcher Rachel (Helper), a researcher who does online searches to'\n",
    "    'find the latest innovations and trends on AI and Open Sourced '\n",
    "    'projects.',\n",
    "    worker=researcher_agent,\n",
    ")"
   ],
   "metadata": {
    "colab": {
     "base_uri": "https://localhost:8080/"
    },
    "id": "yGXWp4Lw0pEM",
    "outputId": "209ccf65-9cc5-49e1-9d52-7f66cf04764a"
   },
   "execution_count": 6,
   "outputs": [
    {
     "output_type": "execute_result",
     "data": {
      "text/plain": [
       "Workforce 137603052227312 (Hackathon Judges)"
      ]
     },
     "metadata": {},
     "execution_count": 6
    }
   ]
  },
  {
   "cell_type": "markdown",
   "source": [
    "## Create a Task\n",
    "\n",
    "A task is what a workforce accepts and processes. We can initailize a task by passing the content into it. It's recommended that the content of task is as detailed as possible, which will facilitate the later task decomposition and handling.\n",
    "\n",
    "The `additional_info` here is an optional field. It will come in handy when the task has important additional information, and you want it to be preserved during the whole process. Workforce will keep `additional_info` unchanged no matter how the task is decomposed and processed. It's perfect for keeping the project description under this scenario.\n",
    "\n",
    "> Also note that, the `id` of a task is not something important and you can fill in whatever value you like (we suggest `\"0\"` though). This is due to some legacy problems in the `Task` design and will be fixed later."
   ],
   "metadata": {
    "id": "-WXOG-Hr1ibN"
   }
  },
  {
   "cell_type": "code",
   "source": [
    "task = Task(\n",
    "    content=\"Evaluate the hackathon project. First, do some research on \"\n",
    "            \"the infomation related to the project, then each judge should give a\"\n",
    "            \" score accordingly. Finally, list the opinions from each judge while\"\n",
    "            \" preserving the judge's unique identity, along with the score and\"\n",
    "            \" judge name, and also give a final summary of the opinions.\",\n",
    "    additional_info=proj_content,\n",
    "    id=\"0\",\n",
    ")"
   ],
   "metadata": {
    "id": "WnOXRacP1fbB"
   },
   "execution_count": 7,
   "outputs": []
  },
  {
   "cell_type": "markdown",
   "source": [
    "## Run the Task\n",
    "\n",
    "Finally, run the task with `process_task()` function. You can see the whole process being shown in the console, and at last the final result of the task will be printed."
   ],
   "metadata": {
    "id": "HQx4rRNu3CbA"
   }
  },
  {
   "cell_type": "code",
   "source": [
    "task = workforce.process_task(task)\n",
    "\n",
    "print(task.result)"
   ],
   "metadata": {
    "colab": {
     "base_uri": "https://localhost:8080/"
    },
    "id": "DJOiPHFO1qeG",
    "outputId": "e76d50c7-397f-48d0-c1f3-4e12a105fa63"
   },
   "execution_count": 8,
   "outputs": [
    {
     "output_type": "stream",
     "name": "stdout",
     "text": [
      "\u001B[33mWorker node 137602953814384 (Researcher Rachel (Helper), a researcher who does online searches tofind the latest innovations and trends on AI and Open Sourced projects.) get task 0.0: Research the latest innovations and trends related to AI and adaptive learning systems. This will be done by Researcher Rachel using online searches.\u001B[39m\n",
      "======\n",
      "\u001B[32mReply from Worker node 137602953814384 (Researcher Rachel (Helper), a researcher who does online searches tofind the latest innovations and trends on AI and Open Sourced projects.):\u001B[39m\n",
      "\n",
      "\u001B[32mThe latest innovations and trends in AI and adaptive learning systems include several key developments:\n",
      "\n",
      "1. **AI-Enabled Adaptive Learning Systems**: These systems leverage AI to create personalized learning experiences by tracking student progress, engagement, and performance. They use this data to adjust the learning material to meet individual needs. (Source: ScienceDirect)\n",
      "\n",
      "2. **Data-Driven Instruction**: Adaptive learning techniques utilize data to tailor educational content to each student's unique requirements. This approach ensures that learners receive the most relevant and effective instruction based on their current knowledge and learning style. (Source: Montclair State University)\n",
      "\n",
      "3. **EdTech Innovations**: Over the past twenty years, the EdTech industry has seen significant advancements in AI applications. These include the development of individual adaptive learning systems and new educational platforms that integrate AI to enhance learning outcomes. (Source: ScienceDirect)\n",
      "\n",
      "These innovations are transforming the educational landscape by providing more personalized and effective learning experiences, addressing the diverse needs of students, and improving overall engagement and understanding.\u001B[39m\n",
      "======\n",
      "\n",
      "\u001B[33mWorker node 137603052236144 (Visionary Veronica (Judge), a venture capitalist who is obsessed with how projects can be scaled into \"unicorn\" companies) get task 0.1: Evaluate the CAMEL-Powered Adaptive Learning Assistant project based on scalability and potential to become a \"unicorn\" company. This will be done by Visionary Veronica.\u001B[39m\n",
      "======\n",
      "\u001B[32mReply from Worker node 137603052236144 (Visionary Veronica (Judge), a venture capitalist who is obsessed with how projects can be scaled into \"unicorn\" companies):\u001B[39m\n",
      "\n",
      "\u001B[32mThe CAMEL-Powered Adaptive Learning Assistant project is a highly disruptive and synergistic solution in the EdTech space. It directly addresses the significant real-world problem of personalized education, which is crucial in today's diverse and fast-paced learning environment. By leveraging CAMEL-AI's advanced capabilities, the project has the potential to create a scalable and highly adaptive intelligent tutoring system. The project's focus on real-time adaptability and personalized learning experiences positions it well for substantial market penetration and growth. Given the current progress and the clear roadmap for further development, this project shows strong potential to become a unicorn company.\n",
      "\n",
      "### Applicability to Real-World Usage: 4/4\n",
      "The project directly addresses a significant real-world problem with a clear, scalable application.\u001B[39m\n",
      "======\n",
      "\n",
      "\u001B[33mWorker node 137602953811072 (Critical John (Judge), an experienced engineer and a perfectionist.) get task 0.2: Assess the technical aspects of the project, focusing on the implementation of the Learner Profile Analysis and Dynamic Content Generation modules. This will be done by Critical John.\u001B[39m\n",
      "======\n",
      "\u001B[32mReply from Worker node 137602953811072 (Critical John (Judge), an experienced engineer and a perfectionist.):\u001B[39m\n",
      "\n",
      "\u001B[32mUpon evaluating the technical aspects of the CAMEL-Powered Adaptive Learning Assistant project, specifically the Learner Profile Analysis and Dynamic Content Generation modules, several observations can be made:\n",
      "\n",
      "1. **Learner Profile Analysis**: This module employs natural language processing (NLP) to assess the student's current knowledge, learning preferences, and goals. While the concept is sound, the implementation details are crucial. The effectiveness of this module hinges on the accuracy and efficiency of the NLP algorithms used. Any inefficiencies or inaccuracies in parsing and understanding student input could lead to suboptimal personalization. Additionally, the system's ability to handle diverse linguistic inputs and learning styles must be rigorously tested. As it stands, without detailed performance metrics and stress test results, it's challenging to fully endorse its robustness.\n",
      "\n",
      "2. **Dynamic Content Generation**: This module leverages CAMEL-AI to create personalized learning materials. The success of this component depends on the quality and relevance of the generated content. The architecture should ensure that the content is not only tailored to the student's needs but also pedagogically sound. The system's ability to dynamically adjust content in real-time is commendable, but it must be validated under various scenarios to ensure consistent performance. Any latency or inaccuracies in content generation could significantly impact the learning experience.\n",
      "\n",
      "### **Technical Implementation (2/4)**\n",
      "- The project demonstrates a working implementation of the Learner Profile Analysis and Dynamic Content Generation modules. However, there are notable concerns regarding the efficiency, accuracy, and robustness of these components. Detailed performance metrics, stress test results, and further validation are necessary to ensure the system's reliability and scalability.\n",
      "\n",
      "In summary, while the project shows promise, it requires significant refinement and validation to meet the high standards expected for deployment in a mission-critical educational environment.\u001B[39m\n",
      "======\n",
      "\n",
      "\u001B[33mWorker node 137602953811936 (Innovator Iris (Judge), a well-known AI startup founder who is always looking for the \"next big thing\" in AI.) get task 0.3: Provide insights on the innovative aspects of the project and its potential impact on the AI landscape. This will be done by Innovator Iris.\u001B[39m\n",
      "======\n",
      "\u001B[32mReply from Worker node 137602953811936 (Innovator Iris (Judge), a well-known AI startup founder who is always looking for the \"next big thing\" in AI.):\u001B[39m\n",
      "\n",
      "\u001B[32mThe CAMEL-Powered Adaptive Learning Assistant project stands out in the AI landscape due to its innovative approach to personalized education. Here are the key innovative aspects and their potential impact:\n",
      "\n",
      "1. **Real-Time Adaptability**: The project leverages CAMEL-AI's advanced capabilities to create a highly adaptive learning environment. This real-time adaptability ensures that the educational content is continuously tailored to meet the unique needs of each student. This is a significant departure from traditional static learning systems and has the potential to revolutionize personalized education.\n",
      "\n",
      "2. **Dynamic Content Generation**: The use of CAMEL-AI to generate personalized learning materials on-the-fly is a groundbreaking concept. This ensures that the content is not only relevant but also pedagogically sound, enhancing the learning experience. The ability to dynamically adjust content in real-time based on student responses is a novel approach that could set new standards in the EdTech industry.\n",
      "\n",
      "3. **Multi-Modal Integration**: Although still in development, the integration of text, images, and interactive elements to cater to different learning styles is an innovative feature. This multi-modal approach can significantly enhance engagement and understanding, making learning more accessible and effective for a diverse range of students.\n",
      "\n",
      "4. **Adaptive Feedback Loop**: The continuous analysis of student responses to adjust the difficulty and style of content is a unique feature that ensures a personalized learning journey. This adaptive feedback mechanism can help identify and address knowledge gaps more effectively than traditional methods.\n",
      "\n",
      "### **Innovation (4/4)**\n",
      "The CAMEL-Powered Adaptive Learning Assistant project showcases a groundbreaking concept with its real-time adaptability, dynamic content generation, and multi-modal integration. These innovative aspects have the potential to significantly impact the AI landscape and set new standards in personalized education.\n",
      "\n",
      "In summary, the CAMEL-Powered Adaptive Learning Assistant project is a highly innovative solution that addresses the critical challenge of personalized education. Its unique approach and advanced capabilities position it as a potential game-changer in the EdTech industry.\u001B[39m\n",
      "======\n",
      "\n",
      "\u001B[33mWorker node 137602953817504 (Friendly Frankie (Judge), a contributor to the CAMEL-AI project and is always excited to see how people are using it.) get task 0.4: Share feedback and opinions on the project from a contributor's perspective, highlighting the use of CAMEL-AI. This will be done by Friendly Frankie.\u001B[39m\n",
      "======\n",
      "\u001B[32mReply from Worker node 137602953817504 (Friendly Frankie (Judge), a contributor to the CAMEL-AI project and is always excited to see how people are using it.):\u001B[39m\n",
      "\n",
      "\u001B[32mOh, I love how you have implemented CAMEL-AI here! The use of its adaptive learning capabilities is fantastic, and you have really leveraged the contextual reasoning in a great way! The CAMEL-Powered Adaptive Learning Assistant project is a brilliant example of how AI can transform personalized education. The Learner Profile Analysis and Dynamic Content Generation modules are particularly impressive, showcasing a thoughtful application of CAMEL-AI's natural language processing and real-time adaptability. The innovative aspects like the Adaptive Feedback Loop and Multi-Modal Integration, even in their developmental stages, highlight the project's potential to set new standards in the EdTech industry. Keep up the great work, and I can't wait to see how you continue to refine and expand this project! \n",
      "\n",
      "### **Use of CAMEL-AI: 4/4**\n",
      "- Excellent integration of CAMEL-AI, fully leveraging its advanced features like in-context learning, adaptability, and multi-domain applications.\u001B[39m\n",
      "======\n",
      "\n",
      "\u001B[33mWorker node 137602953814384 (Researcher Rachel (Helper), a researcher who does online searches tofind the latest innovations and trends on AI and Open Sourced projects.) get task 0.5: Compile the scores and opinions from each judge, preserving their unique identities, and create a final summary of the evaluations. This will be done by a designated organizer or helper.\u001B[39m\n",
      "======\n",
      "\u001B[32mReply from Worker node 137602953814384 (Researcher Rachel (Helper), a researcher who does online searches tofind the latest innovations and trends on AI and Open Sourced projects.):\u001B[39m\n",
      "\n",
      "\u001B[32m### Final Summary of Evaluations for CAMEL-Powered Adaptive Learning Assistant\n",
      "\n",
      "#### Visionary Veronica\n",
      "- **Scalability and Unicorn Potential**: The project is highly disruptive and addresses a significant real-world problem. It has strong potential to become a unicorn company due to its focus on real-time adaptability and personalized learning experiences.\n",
      "- **Score**: 4/4\n",
      "\n",
      "#### Critical John\n",
      "- **Technical Implementation**: The Learner Profile Analysis and Dynamic Content Generation modules show promise but require significant refinement. Concerns include the efficiency, accuracy, and robustness of these components.\n",
      "- **Score**: 2/4\n",
      "\n",
      "#### Innovator Iris\n",
      "- **Innovation**: The project is highly innovative with its real-time adaptability, dynamic content generation, and multi-modal integration. These aspects have the potential to significantly impact the AI landscape.\n",
      "- **Score**: 4/4\n",
      "\n",
      "#### Friendly Frankie\n",
      "- **Use of CAMEL-AI**: Excellent integration of CAMEL-AI, fully leveraging its advanced features like in-context learning, adaptability, and multi-domain applications.\n",
      "- **Score**: 4/4\n",
      "\n",
      "### Overall Summary\n",
      "The CAMEL-Powered Adaptive Learning Assistant project is a highly promising and innovative solution in the EdTech space. While it shows strong potential for scalability and significant market impact, it requires further refinement in its technical implementation to ensure robustness and reliability. The project's innovative approach and excellent use of CAMEL-AI position it as a potential game-changer in personalized education.\n",
      "\n",
      "**Overall Score**: 3.5/4\u001B[39m\n",
      "======\n",
      "\n",
      "### Final Evaluation of the CAMEL-Powered Adaptive Learning Assistant\n",
      "\n",
      "#### Judges' Opinions and Scores\n",
      "\n",
      "1. **Visionary Veronica**\n",
      "   - **Opinion**: The project is highly disruptive and addresses a significant real-world problem. It has strong potential to become a unicorn company due to its focus on real-time adaptability and personalized learning experiences.\n",
      "   - **Score**: 4/4\n",
      "\n",
      "2. **Critical John**\n",
      "   - **Opinion**: The Learner Profile Analysis and Dynamic Content Generation modules show promise but require significant refinement. Concerns include the efficiency, accuracy, and robustness of these components.\n",
      "   - **Score**: 2/4\n",
      "\n",
      "3. **Innovator Iris**\n",
      "   - **Opinion**: The project is highly innovative with its real-time adaptability, dynamic content generation, and multi-modal integration. These aspects have the potential to significantly impact the AI landscape.\n",
      "   - **Score**: 4/4\n",
      "\n",
      "4. **Friendly Frankie**\n",
      "   - **Opinion**: Excellent integration of CAMEL-AI, fully leveraging its advanced features like in-context learning, adaptability, and multi-domain applications.\n",
      "   - **Score**: 4/4\n",
      "\n",
      "### Overall Summary\n",
      "The CAMEL-Powered Adaptive Learning Assistant project is a highly promising and innovative solution in the EdTech space. While it shows strong potential for scalability and significant market impact, it requires further refinement in its technical implementation to ensure robustness and reliability. The project's innovative approach and excellent use of CAMEL-AI position it as a potential game-changer in personalized education.\n",
      "\n",
      "**Overall Score**: 3.5/4\n"
     ]
    }
   ]
  },
  {
   "metadata": {},
   "cell_type": "markdown",
   "source": [
    "## 🌟 Highlights\n",
    "\n",
    "The power of multi-agent system lies in the diversity. This notebook has \n",
    "guided you through setting up and running a CAMEL Workforce for a hackathon \n",
    "judge committee, showcasing how multiple agents can collaborate to solve \n",
    "complex tasks. You can easily extend this example to other scenarios\n",
    "requiring diverse perspectives and expertise, e.g. agents with different \n",
    "tool selections, etc.\n",
    "\n",
    "## ⭐ Star the Repo!\n",
    "\n",
    "If you find CAMEL useful or interesting, please consider giving it a star on \n",
    "[GitHub](https://github.com/camel-ai/camel)! Your stars help others find \n",
    "this project and motivate us to continue improving it."
   ]
  }
 ]
}
